{
 "cells": [
  {
   "cell_type": "markdown",
   "id": "63d5e0f5",
   "metadata": {},
   "source": [
    "# DÀN Ý"
   ]
  },
  {
   "cell_type": "markdown",
   "id": "5ab3ec45",
   "metadata": {},
   "source": [
    "- Vòng lặp while, for lồng nhau\n",
    "- Hàm số\n",
    "- Xử lý Chuỗi\n",
    "- List Comprehension"
   ]
  },
  {
   "cell_type": "markdown",
   "id": "3938d4d0",
   "metadata": {},
   "source": [
    "# Cú Pháp Vòng Lặp While"
   ]
  },
  {
   "cell_type": "markdown",
   "id": "2b95563c",
   "metadata": {},
   "source": [
    "while condition:\n",
    "    \n",
    "    \n",
    "    code block;\n"
   ]
  },
  {
   "cell_type": "markdown",
   "id": "6dc43479",
   "metadata": {},
   "source": [
    "# Sự khác biệt giữa vòng lặp for và while là:"
   ]
  },
  {
   "cell_type": "markdown",
   "id": "5c7582ac",
   "metadata": {},
   "source": [
    "Đối với for thì đã biết trước số lần lặp\n",
    "\n",
    "\n",
    "Nhưng với while thì không cần biết trước số lần lặp, nhưng phải biết điều điện dừng vòng lặp\n"
   ]
  },
  {
   "cell_type": "markdown",
   "id": "c11660d3",
   "metadata": {},
   "source": [
    "Bài tập 1: Tính tổng các số chia hết cho 3 đồng thời chia hết cho 5 trong khoảng từ 0 -100 sử dụng vòng lặp while:"
   ]
  },
  {
   "cell_type": "code",
   "execution_count": 2,
   "id": "d79b8609",
   "metadata": {},
   "outputs": [
    {
     "name": "stdout",
     "output_type": "stream",
     "text": [
      "0\n",
      "15\n",
      "30\n",
      "45\n",
      "60\n",
      "75\n",
      "90\n",
      "Tổng = 315\n"
     ]
    }
   ],
   "source": [
    "total = 0\n",
    "i = 0\n",
    "while i <= 100:\n",
    "    if i % 3 ==0 and i % 5 ==0:\n",
    "        print(i)\n",
    "        total += i\n",
    "    i += 1\n",
    "print('Tổng = {}'.format(total))"
   ]
  },
  {
   "cell_type": "markdown",
   "id": "5e816f95",
   "metadata": {},
   "source": [
    "#Bài tập 2: \n",
    "In ra thông báo : nhập ký tự từ bàn phím . \n",
    "\n",
    "So sánh ký tự nhập nếu là 'k' thì ngừng còn không lặp lại thông báo đến chừng nào nhập đúng 'k' thì thôi."
   ]
  },
  {
   "cell_type": "code",
   "execution_count": 3,
   "id": "12b67f15",
   "metadata": {},
   "outputs": [
    {
     "name": "stdout",
     "output_type": "stream",
     "text": [
      "Nhập ký tự từ bàn phím: q\n",
      "Nhập ký tự từ bàn phím: ư\n",
      "Nhập ký tự từ bàn phím: e\n",
      "Nhập ký tự từ bàn phím: r\n",
      "Nhập ký tự từ bàn phím: t\n",
      "Nhập ký tự từ bàn phím: k\n"
     ]
    }
   ],
   "source": [
    "while True:\n",
    "    str_input = input('Nhập ký tự từ bàn phím: ')\n",
    "    if str_input == 'k':\n",
    "        break\n",
    "# hoặc:\n",
    "str_input = ''\n",
    "while str_input != 'k':\n",
    "    str_input = input('Nhập ký tự từ bàn phím: ')"
   ]
  },
  {
   "cell_type": "markdown",
   "id": "7bd06473",
   "metadata": {},
   "source": [
    "Bài tập 3: sử dụng while , continue, break, if và xử lý chuỗi:\n",
    "\n",
    "Phần 1: Cài đặt tài khoản:\n",
    "\n",
    "- STEP 1: In ra thông báo: 'Cài đặt tên tài khoản (có ít nhất 6 ký tự): '   => để người dùng nhập tên tài khoản\n",
    "- STEP 2: Kiểm tra tên tài khoản mới nhập có độ dài >= 6 , nếu không in lại thông báo trên, nếu có làm tiếp:\n",
    "- STEP 3: In ra thông báo : 'Cài đặt mật khẩu ( đủ 6 ký tự và không chứa dấu cách ): '  => để người dùng nhập mật khẩu\n",
    "- STEP 4: Kiểm tra mật khẩu có độ dài >=6 và không chứa dấu cách . NẾU THỎA MÃN => in ra thông báo : 'Successfully!'\n",
    "NẾU KHÔNG => làm lại từ bước 1"
   ]
  },
  {
   "cell_type": "code",
   "execution_count": 21,
   "id": "f5504dff",
   "metadata": {},
   "outputs": [
    {
     "name": "stdout",
     "output_type": "stream",
     "text": [
      "Cài đặt tên tài khoản (có ít nhất 6 ký tự): doquangdao\n",
      "Đã tạo account, tiếp theo =>\n",
      "Cài đặt mật khẩu ( đủ 6 ký tự và không chứa dấu cách): harishama\n",
      "Successfully! tài khoản: doquangdao, mật khẩu: harishama\n"
     ]
    }
   ],
   "source": [
    "while True:\n",
    "    setup_account = input('Cài đặt tên tài khoản (có ít nhất 6 ký tự): ')\n",
    "    if len(setup_account) >= 6:\n",
    "        print('Đã tạo account, tiếp theo =>')\n",
    "        setup_pass = input('Cài đặt mật khẩu ( đủ 6 ký tự và không chứa dấu cách): ')\n",
    "        if ' ' not in setup_pass and len(setup_pass) >= 6:\n",
    "            print('Successfully! tài khoản: {}, mật khẩu: {}'.format(setup_account,setup_pass))\n",
    "            break\n",
    "        else:\n",
    "            print('Mật khẩu không hợp lệ, làm lại từ đầu!')\n",
    "            continue\n",
    "    else:\n",
    "        print('Tên tài khoản không đủ 6 ký tự, hãy làm lại !') "
   ]
  },
  {
   "cell_type": "markdown",
   "id": "8b37d5ce",
   "metadata": {},
   "source": [
    "Phần 2: Đăng nhập \n",
    "\n",
    "- STEP 1: Cho người dùng nhập account, nếu sai thông báo tài khoản không tồn tại và bắt nhập lại tài khoản.\n",
    "\n",
    "- STEP 2: Nếu nhập tài khoản đúng cho nhập mật khẩu, nếu mật khẩu sai bắt làm lại từ STEP 1, nhập sai mk 5 lần thì không cho nhập nữa và in ra thông báo tài khoản bị khóa"
   ]
  },
  {
   "cell_type": "code",
   "execution_count": 22,
   "id": "350d183c",
   "metadata": {},
   "outputs": [
    {
     "name": "stdout",
     "output_type": "stream",
     "text": [
      "nhập tài khoản: doquangdao\n",
      "nhập mật khẩu: dfsdfds\n",
      "Nhập sai mật khẩu lần 1\n",
      "nhập tài khoản: ưefweeww\n",
      "Tài khoản không tồn tại\n",
      "nhập tài khoản: doquangdao\n",
      "nhập mật khẩu: sdsdsds\n",
      "Nhập sai mật khẩu lần 2\n",
      "nhập tài khoản: sfsdfsdfsfd\n",
      "Tài khoản không tồn tại\n",
      "nhập tài khoản: doquangdao\n",
      "nhập mật khẩu: harishama\n",
      "Bạn đã đăng nhập thành công\n"
     ]
    }
   ],
   "source": [
    "i = 0\n",
    "while True:\n",
    "    acc_login = input(\"nhập tài khoản: \")\n",
    "    if acc_login == setup_account:\n",
    "        pass_login = input(\"nhập mật khẩu: \")\n",
    "        if pass_login == setup_pass:\n",
    "            print('Bạn đã đăng nhập thành công')\n",
    "            break\n",
    "        else:\n",
    "            i += 1\n",
    "            print('Nhập sai mật khẩu lần {}'.format(i))\n",
    "            if i == 5 :\n",
    "                print('Tài khoản đã bị khóa')\n",
    "                break\n",
    "    else:\n",
    "        print('Tài khoản không tồn tại')"
   ]
  },
  {
   "cell_type": "markdown",
   "id": "354e835f",
   "metadata": {},
   "source": [
    "# For Lồng Nhau"
   ]
  },
  {
   "cell_type": "code",
   "execution_count": 24,
   "id": "64281d6e",
   "metadata": {},
   "outputs": [
    {
     "name": "stdout",
     "output_type": "stream",
     "text": [
      "1 x 1 = 1\n",
      "1 x 2 = 2\n",
      "1 x 3 = 3\n",
      "1 x 4 = 4\n",
      "1 x 5 = 5\n",
      "1 x 6 = 6\n",
      "1 x 7 = 7\n",
      "1 x 8 = 8\n",
      "1 x 9 = 9\n",
      "1 x 10 = 10\n",
      "\n",
      "2 x 1 = 2\n",
      "2 x 2 = 4\n",
      "2 x 3 = 6\n",
      "2 x 4 = 8\n",
      "2 x 5 = 10\n",
      "2 x 6 = 12\n",
      "2 x 7 = 14\n",
      "2 x 8 = 16\n",
      "2 x 9 = 18\n",
      "2 x 10 = 20\n",
      "\n",
      "3 x 1 = 3\n",
      "3 x 2 = 6\n",
      "3 x 3 = 9\n",
      "3 x 4 = 12\n",
      "3 x 5 = 15\n",
      "3 x 6 = 18\n",
      "3 x 7 = 21\n",
      "3 x 8 = 24\n",
      "3 x 9 = 27\n",
      "3 x 10 = 30\n",
      "\n",
      "4 x 1 = 4\n",
      "4 x 2 = 8\n",
      "4 x 3 = 12\n",
      "4 x 4 = 16\n",
      "4 x 5 = 20\n",
      "4 x 6 = 24\n",
      "4 x 7 = 28\n",
      "4 x 8 = 32\n",
      "4 x 9 = 36\n",
      "4 x 10 = 40\n",
      "\n",
      "5 x 1 = 5\n",
      "5 x 2 = 10\n",
      "5 x 3 = 15\n",
      "5 x 4 = 20\n",
      "5 x 5 = 25\n",
      "5 x 6 = 30\n",
      "5 x 7 = 35\n",
      "5 x 8 = 40\n",
      "5 x 9 = 45\n",
      "5 x 10 = 50\n",
      "\n",
      "6 x 1 = 6\n",
      "6 x 2 = 12\n",
      "6 x 3 = 18\n",
      "6 x 4 = 24\n",
      "6 x 5 = 30\n",
      "6 x 6 = 36\n",
      "6 x 7 = 42\n",
      "6 x 8 = 48\n",
      "6 x 9 = 54\n",
      "6 x 10 = 60\n",
      "\n",
      "7 x 1 = 7\n",
      "7 x 2 = 14\n",
      "7 x 3 = 21\n",
      "7 x 4 = 28\n",
      "7 x 5 = 35\n",
      "7 x 6 = 42\n",
      "7 x 7 = 49\n",
      "7 x 8 = 56\n",
      "7 x 9 = 63\n",
      "7 x 10 = 70\n",
      "\n",
      "8 x 1 = 8\n",
      "8 x 2 = 16\n",
      "8 x 3 = 24\n",
      "8 x 4 = 32\n",
      "8 x 5 = 40\n",
      "8 x 6 = 48\n",
      "8 x 7 = 56\n",
      "8 x 8 = 64\n",
      "8 x 9 = 72\n",
      "8 x 10 = 80\n",
      "\n",
      "9 x 1 = 9\n",
      "9 x 2 = 18\n",
      "9 x 3 = 27\n",
      "9 x 4 = 36\n",
      "9 x 5 = 45\n",
      "9 x 6 = 54\n",
      "9 x 7 = 63\n",
      "9 x 8 = 72\n",
      "9 x 9 = 81\n",
      "9 x 10 = 90\n",
      "\n",
      "10 x 1 = 10\n",
      "10 x 2 = 20\n",
      "10 x 3 = 30\n",
      "10 x 4 = 40\n",
      "10 x 5 = 50\n",
      "10 x 6 = 60\n",
      "10 x 7 = 70\n",
      "10 x 8 = 80\n",
      "10 x 9 = 90\n",
      "10 x 10 = 100\n",
      "\n"
     ]
    }
   ],
   "source": [
    "#Viết chương trình in bảng cửu chương từ 1 đến 10.\n",
    "for i in range(1, 11):\n",
    "    for j in range(1,11):\n",
    "        print(i,'x',j,'=',i * j)\n",
    "    print()"
   ]
  },
  {
   "cell_type": "markdown",
   "id": "68bd049f",
   "metadata": {},
   "source": [
    "# Xử lý chuỗi"
   ]
  },
  {
   "cell_type": "markdown",
   "id": "24a06eb0",
   "metadata": {},
   "source": [
    "# Lý thuyết xem trong powerpoint "
   ]
  },
  {
   "cell_type": "markdown",
   "id": "e98cee96",
   "metadata": {},
   "source": [
    "# Bài tập xử lý chuỗi:"
   ]
  },
  {
   "cell_type": "markdown",
   "id": "bce8172f",
   "metadata": {},
   "source": [
    "Bài 1: Tìm chuỗi con có độ dài lớn nhất trong một chuỗi lớn ( gợi ý dùng hàm enumerate() )"
   ]
  },
  {
   "cell_type": "code",
   "execution_count": 30,
   "id": "17026b25",
   "metadata": {},
   "outputs": [
    {
     "name": "stdout",
     "output_type": "stream",
     "text": [
      "Fernandez.\n"
     ]
    }
   ],
   "source": [
    "str_a = 'Thủ môn Đặng Văn Lâm vừa có pha cứu thua tốt, sau cú đánh đầu cực kỳ khó chịu của Carlos Fernandez. Người có đường chuyền bóng hợp lý là Triệu Việt Hưng.'\n",
    "list_a = str_a.split()\n",
    "# Sử dụng enumerate()\n",
    "len_max = len(list_a[0])\n",
    "value_max = list_a[0]\n",
    "for index, value in enumerate(list_a):\n",
    "    if len(value) > len_max:\n",
    "        len_max = len(value)\n",
    "        value_max = value\n",
    "print(value_max)"
   ]
  },
  {
   "cell_type": "markdown",
   "id": "0684692d",
   "metadata": {},
   "source": [
    "Bài 2: Viết chương trình đảo ngược một chuỗi bất kỳ"
   ]
  },
  {
   "cell_type": "code",
   "execution_count": 31,
   "id": "696aaae3",
   "metadata": {},
   "outputs": [
    {
     "data": {
      "text/plain": [
       "'.gnưH tệiV uệirT àl ýl pợh gnób nềyuhc gnờưđ óc iờưgN .zednanreF solraC aủc uịhc óhk ỳk cực uầđ hnáđ úc uas ,tốt auht uức ahp óc aừv mâL năV gnặĐ nôm ủhT'"
      ]
     },
     "execution_count": 31,
     "metadata": {},
     "output_type": "execute_result"
    }
   ],
   "source": [
    "str_a = 'Thủ môn Đặng Văn Lâm vừa có pha cứu thua tốt, sau cú đánh đầu cực kỳ khó chịu của Carlos Fernandez. Người có đường chuyền bóng hợp lý là Triệu Việt Hưng.'\n",
    "rever = str_a[::-1]\n",
    "rever"
   ]
  },
  {
   "cell_type": "markdown",
   "id": "cd778894",
   "metadata": {},
   "source": [
    "3. Tìm số lần xuất hiện của một ký tự trong một chuỗi:"
   ]
  },
  {
   "cell_type": "code",
   "execution_count": 33,
   "id": "40b1db56",
   "metadata": {},
   "outputs": [
    {
     "name": "stdout",
     "output_type": "stream",
     "text": [
      "10\n"
     ]
    }
   ],
   "source": [
    "str_a = 'Thủ môn Đặng Văn Lâm vừa có pha cứu thua tốt, sau cú đánh đầu cực kỳ khó chịu của Carlos Fernandez. Người có đường chuyền bóng hợp lý là Triệu Việt Hưng.'\n",
    "count = 0 \n",
    "for ele in str_a:\n",
    "    if ele == 'n':\n",
    "        count += 1\n",
    "print(count)"
   ]
  },
  {
   "cell_type": "markdown",
   "id": "9bc763e9",
   "metadata": {},
   "source": [
    "4. Tìm chuỗi con độ dài lớn hơn 2 và xuất hiện đầu tiên và cuối cùng trong một chuỗi:"
   ]
  },
  {
   "cell_type": "code",
   "execution_count": null,
   "id": "7d4d3f06",
   "metadata": {},
   "outputs": [],
   "source": [
    "str_a = 'Thủ môn Đặng Văn Lâm vừa có pha cứu thua tốt, sau cú đánh đầu cực kỳ khó chịu của Carlos Fernandez. Người có đường chuyền bóng hợp lý là Triệu Việt Hưng.'\n",
    "for index, value in str_a.split():\n",
    "    "
   ]
  }
 ],
 "metadata": {
  "kernelspec": {
   "display_name": "Python 3 (ipykernel)",
   "language": "python",
   "name": "python3"
  },
  "language_info": {
   "codemirror_mode": {
    "name": "ipython",
    "version": 3
   },
   "file_extension": ".py",
   "mimetype": "text/x-python",
   "name": "python",
   "nbconvert_exporter": "python",
   "pygments_lexer": "ipython3",
   "version": "3.9.12"
  }
 },
 "nbformat": 4,
 "nbformat_minor": 5
}
